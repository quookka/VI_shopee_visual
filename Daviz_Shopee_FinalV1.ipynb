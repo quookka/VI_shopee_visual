{
 "cells": [
  {
   "cell_type": "markdown",
   "metadata": {},
   "source": [
    "# <img src=\"../vi_logo.png\" style=\"float: left; margin: 10px; height: 45px\">\n",
    "\n",
    "# Vertical Institute Data Science 101\n",
    "# Lesson 4: Data Cleaning, Visualization and EDA\n",
    "\n"
   ]
  },
  {
   "cell_type": "code",
   "execution_count": 2,
   "metadata": {},
   "outputs": [],
   "source": [
    "#Import matplotlib\n",
    "\n",
    "import matplotlib.pyplot as plt\n",
    "plt.style.use('fivethirtyeight')\n",
    "%matplotlib inline\n",
    "from matplotlib import cm\n",
    "from colorspacious import cspace_converter\n",
    "from collections import OrderedDict"
   ]
  },
  {
   "cell_type": "code",
   "execution_count": 3,
   "metadata": {},
   "outputs": [],
   "source": [
    "#import pandas and numpy\n",
    "import pandas as pd\n",
    "import numpy as np"
   ]
  },
  {
   "cell_type": "code",
   "execution_count": 4,
   "metadata": {},
   "outputs": [],
   "source": [
    "#Import data\n",
    "df = pd.DataFrame(np.random.randn(10, 4), \n",
    "                  columns=['col1', 'col2', 'col3', 'col4'],\n",
    "                  index=['a', 'b', 'c', 'd', 'e', 'f', 'g', 'h', 'i', 'j'])"
   ]
  },
  {
   "cell_type": "code",
   "execution_count": 5,
   "metadata": {},
   "outputs": [
    {
     "data": {
      "text/html": [
       "<div>\n",
       "<style scoped>\n",
       "    .dataframe tbody tr th:only-of-type {\n",
       "        vertical-align: middle;\n",
       "    }\n",
       "\n",
       "    .dataframe tbody tr th {\n",
       "        vertical-align: top;\n",
       "    }\n",
       "\n",
       "    .dataframe thead th {\n",
       "        text-align: right;\n",
       "    }\n",
       "</style>\n",
       "<table border=\"1\" class=\"dataframe\">\n",
       "  <thead>\n",
       "    <tr style=\"text-align: right;\">\n",
       "      <th></th>\n",
       "      <th>col1</th>\n",
       "      <th>col2</th>\n",
       "      <th>col3</th>\n",
       "      <th>col4</th>\n",
       "    </tr>\n",
       "  </thead>\n",
       "  <tbody>\n",
       "    <tr>\n",
       "      <th>a</th>\n",
       "      <td>-1.853618</td>\n",
       "      <td>0.048725</td>\n",
       "      <td>1.104677</td>\n",
       "      <td>-0.250765</td>\n",
       "    </tr>\n",
       "    <tr>\n",
       "      <th>b</th>\n",
       "      <td>-0.272940</td>\n",
       "      <td>0.722629</td>\n",
       "      <td>0.794356</td>\n",
       "      <td>0.457952</td>\n",
       "    </tr>\n",
       "    <tr>\n",
       "      <th>c</th>\n",
       "      <td>1.234269</td>\n",
       "      <td>0.913189</td>\n",
       "      <td>0.019496</td>\n",
       "      <td>2.058938</td>\n",
       "    </tr>\n",
       "    <tr>\n",
       "      <th>d</th>\n",
       "      <td>-1.581239</td>\n",
       "      <td>1.063785</td>\n",
       "      <td>-1.510595</td>\n",
       "      <td>-0.641601</td>\n",
       "    </tr>\n",
       "    <tr>\n",
       "      <th>e</th>\n",
       "      <td>0.146845</td>\n",
       "      <td>-0.154127</td>\n",
       "      <td>-0.418967</td>\n",
       "      <td>-1.465733</td>\n",
       "    </tr>\n",
       "  </tbody>\n",
       "</table>\n",
       "</div>"
      ],
      "text/plain": [
       "       col1      col2      col3      col4\n",
       "a -1.853618  0.048725  1.104677 -0.250765\n",
       "b -0.272940  0.722629  0.794356  0.457952\n",
       "c  1.234269  0.913189  0.019496  2.058938\n",
       "d -1.581239  1.063785 -1.510595 -0.641601\n",
       "e  0.146845 -0.154127 -0.418967 -1.465733"
      ]
     },
     "execution_count": 5,
     "metadata": {},
     "output_type": "execute_result"
    }
   ],
   "source": [
    "df.head()"
   ]
  },
  {
   "cell_type": "markdown",
   "metadata": {},
   "source": [
    "# <a id=\"bar\"></a>\n",
    "## Bar plots"
   ]
  },
  {
   "cell_type": "code",
   "execution_count": 11,
   "metadata": {},
   "outputs": [
    {
     "data": {
      "text/plain": [
       "<matplotlib.legend.Legend at 0x2e6cb13a588>"
      ]
     },
     "execution_count": 11,
     "metadata": {},
     "output_type": "execute_result"
    },
    {
     "data": {
      "image/png": "[encoded data removed]",
      "text/plain": [
       "<Figure size 720x576 with 1 Axes>"
      ]
     },
     "metadata": {
      "needs_background": "light"
     },
     "output_type": "display_data"
    }
   ],
   "source": [
    "\n",
    "ax = plt.gca()\n",
    "ax.set_facecolor('xkcd:black')\n",
    "df['col4'].plot(kind='bar', figsize=(10,8), fontsize=14, cmap= 'PuBuGn') \n",
    "\n",
    "\n",
    "\n",
    "# Add some text for labels, title and custom x-axis tick labels, etc.\n",
    "ax.set_ylabel('Col4')\n",
    "ax.set_xlabel('', color='c')\n",
    "ax.set_title('Example')\n",
    "#ax.legend()\n",
    "ax.legend(loc='lower left', bbox_to_anchor=(1.0, 0.6))"
   ]
  },
  {
   "cell_type": "markdown",
   "metadata": {},
   "source": [
    "**Create A Horizontal Bar**\n",
    "1. Create a horizontal chart with col4.\n",
    "2. Using kind = 'barh' and fontsize 14\n",
    "3. Set the color to twilight\n",
    "4. Set background as steel blue\n",
    "5. Set the title to \"Horizontal Block\".\n",
    "6. Set the figure size to 10 by 14."
   ]
  },
  {
   "cell_type": "code",
   "execution_count": 26,
   "metadata": {},
   "outputs": [
    {
     "data": {
      "text/plain": [
       "<matplotlib.legend.Legend at 0x2e6cbd7e548>"
      ]
     },
     "execution_count": 26,
     "metadata": {},
     "output_type": "execute_result"
    },
    {
     "data": {
      "image/png": "[encoded data removed]",
      "text/plain": [
       "<Figure size 720x1008 with 1 Axes>"
      ]
     },
     "metadata": {
      "needs_background": "light"
     },
     "output_type": "display_data"
    }
   ],
   "source": [
    "#Put your codes"
   ]
  },
  {
   "cell_type": "code",
   "execution_count": 28,
   "metadata": {},
   "outputs": [
    {
     "name": "stderr",
     "output_type": "stream",
     "text": [
      "C:\\Anaconda\\lib\\site-packages\\statsmodels\\tools\\_testing.py:19: FutureWarning: pandas.util.testing is deprecated. Use the functions in the public API at pandas.testing instead.\n",
      "  import pandas.util.testing as tm\n"
     ]
    }
   ],
   "source": [
    "#import seaborn\n",
    "import seaborn as sns"
   ]
  },
  {
   "cell_type": "code",
   "execution_count": 29,
   "metadata": {},
   "outputs": [
    {
     "data": {
      "text/html": [
       "<div>\n",
       "<style scoped>\n",
       "    .dataframe tbody tr th:only-of-type {\n",
       "        vertical-align: middle;\n",
       "    }\n",
       "\n",
       "    .dataframe tbody tr th {\n",
       "        vertical-align: top;\n",
       "    }\n",
       "\n",
       "    .dataframe thead th {\n",
       "        text-align: right;\n",
       "    }\n",
       "</style>\n",
       "<table border=\"1\" class=\"dataframe\">\n",
       "  <thead>\n",
       "    <tr style=\"text-align: right;\">\n",
       "      <th></th>\n",
       "      <th>col1</th>\n",
       "      <th>col2</th>\n",
       "      <th>col3</th>\n",
       "      <th>col4</th>\n",
       "    </tr>\n",
       "  </thead>\n",
       "  <tbody>\n",
       "    <tr>\n",
       "      <th>a</th>\n",
       "      <td>-1.853618</td>\n",
       "      <td>0.048725</td>\n",
       "      <td>1.104677</td>\n",
       "      <td>-0.250765</td>\n",
       "    </tr>\n",
       "    <tr>\n",
       "      <th>b</th>\n",
       "      <td>-0.272940</td>\n",
       "      <td>0.722629</td>\n",
       "      <td>0.794356</td>\n",
       "      <td>0.457952</td>\n",
       "    </tr>\n",
       "    <tr>\n",
       "      <th>c</th>\n",
       "      <td>1.234269</td>\n",
       "      <td>0.913189</td>\n",
       "      <td>0.019496</td>\n",
       "      <td>2.058938</td>\n",
       "    </tr>\n",
       "    <tr>\n",
       "      <th>d</th>\n",
       "      <td>-1.581239</td>\n",
       "      <td>1.063785</td>\n",
       "      <td>-1.510595</td>\n",
       "      <td>-0.641601</td>\n",
       "    </tr>\n",
       "    <tr>\n",
       "      <th>e</th>\n",
       "      <td>0.146845</td>\n",
       "      <td>-0.154127</td>\n",
       "      <td>-0.418967</td>\n",
       "      <td>-1.465733</td>\n",
       "    </tr>\n",
       "    <tr>\n",
       "      <th>f</th>\n",
       "      <td>0.256342</td>\n",
       "      <td>0.827979</td>\n",
       "      <td>1.684894</td>\n",
       "      <td>-0.910202</td>\n",
       "    </tr>\n",
       "    <tr>\n",
       "      <th>g</th>\n",
       "      <td>-1.433783</td>\n",
       "      <td>0.437368</td>\n",
       "      <td>-0.820502</td>\n",
       "      <td>-0.608076</td>\n",
       "    </tr>\n",
       "    <tr>\n",
       "      <th>h</th>\n",
       "      <td>0.425250</td>\n",
       "      <td>0.971954</td>\n",
       "      <td>-2.060698</td>\n",
       "      <td>-0.255836</td>\n",
       "    </tr>\n",
       "    <tr>\n",
       "      <th>i</th>\n",
       "      <td>0.445104</td>\n",
       "      <td>-0.566675</td>\n",
       "      <td>-0.888218</td>\n",
       "      <td>1.287067</td>\n",
       "    </tr>\n",
       "    <tr>\n",
       "      <th>j</th>\n",
       "      <td>0.581821</td>\n",
       "      <td>-0.453313</td>\n",
       "      <td>1.685512</td>\n",
       "      <td>0.738759</td>\n",
       "    </tr>\n",
       "  </tbody>\n",
       "</table>\n",
       "</div>"
      ],
      "text/plain": [
       "       col1      col2      col3      col4\n",
       "a -1.853618  0.048725  1.104677 -0.250765\n",
       "b -0.272940  0.722629  0.794356  0.457952\n",
       "c  1.234269  0.913189  0.019496  2.058938\n",
       "d -1.581239  1.063785 -1.510595 -0.641601\n",
       "e  0.146845 -0.154127 -0.418967 -1.465733\n",
       "f  0.256342  0.827979  1.684894 -0.910202\n",
       "g -1.433783  0.437368 -0.820502 -0.608076\n",
       "h  0.425250  0.971954 -2.060698 -0.255836\n",
       "i  0.445104 -0.566675 -0.888218  1.287067\n",
       "j  0.581821 -0.453313  1.685512  0.738759"
      ]
     },
     "execution_count": 29,
     "metadata": {},
     "output_type": "execute_result"
    }
   ],
   "source": [
    "# Refresh what's in our df\n",
    "df"
   ]
  },
  {
   "cell_type": "code",
   "execution_count": 41,
   "metadata": {},
   "outputs": [
    {
     "data": {
      "image/png": "[encoded data removed]",
      "text/plain": [
       "<Figure size 1800x360 with 2 Axes>"
      ]
     },
     "metadata": {
      "needs_background": "light"
     },
     "output_type": "display_data"
    }
   ],
   "source": [
    "plt.figure(figsize=(25, 5))\n",
    "sns.heatmap(df.corr(),cmap=\"YlOrBr\")\n",
    "plt.title(\"Heatmap\", fontsize=20)\n",
    "plt.xlabel(\"Example\", fontsize=16)\n",
    "plt.ylabel(\"Columns\", fontsize=16)\n",
    "plt.show()"
   ]
  },
  {
   "cell_type": "markdown",
   "metadata": {},
   "source": [
    "**Create A Heatmap Bar**\n",
    "1. Using correlation.\n",
    "2. Create a heatmap\n",
    "3. Set the figure to 25 by 5\n",
    "4. Set background as steel blue\n",
    "5. Set the title to as heatmap\n",
    "6. Set the x axis as Example.\n",
    "7. Set the y axis as Columns."
   ]
  },
  {
   "cell_type": "code",
   "execution_count": 39,
   "metadata": {},
   "outputs": [
    {
     "data": {
      "text/plain": [
       "<matplotlib.axes._subplots.AxesSubplot at 0x2e6cea5e7c8>"
      ]
     },
     "execution_count": 39,
     "metadata": {},
     "output_type": "execute_result"
    },
    {
     "data": {
      "image/png": "[encoded data removed]",
      "text/plain": [
       "<Figure size 1800x360 with 2 Axes>"
      ]
     },
     "metadata": {
      "needs_background": "light"
     },
     "output_type": "display_data"
    }
   ],
   "source": [
    "#put your codes"
   ]
  },
  {
   "cell_type": "code",
   "execution_count": null,
   "metadata": {},
   "outputs": [],
   "source": []
  }
 ],
 "metadata": {
  "kernelspec": {
   "display_name": "Python 3",
   "language": "python",
   "name": "python3"
  },
  "language_info": {
   "codemirror_mode": {
    "name": "ipython",
    "version": 3
   },
   "file_extension": ".py",
   "mimetype": "text/x-python",
   "name": "python",
   "nbconvert_exporter": "python",
   "pygments_lexer": "ipython3",
   "version": "3.7.4"
  }
 },
 "nbformat": 4,
 "nbformat_minor": 2
}
